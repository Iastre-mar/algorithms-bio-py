{
 "cells": [
  {
   "cell_type": "code",
   "execution_count": 5,
   "metadata": {},
   "outputs": [],
   "source": [
    "import time"
   ]
  },
  {
   "cell_type": "code",
   "execution_count": 2,
   "metadata": {},
   "outputs": [],
   "source": [
    "def aprox_pattern_count(seq, length, mismatch):\n",
    "    start = time.process_time()\n",
    "    lst = []\n",
    "    maxx = 0\n",
    "    popular_pattern = {}\n",
    "    for i in range(len(seq)-length):\n",
    "        h_c = hamming_count(seq[i:i+length], seq, mismatch)\n",
    "        if h_c > maxx:\n",
    "            maxx = h_c\n",
    "            popular_pattern = {seq[i:i+length]: maxx}\n",
    "        elif h_c == maxx:\n",
    "            popular_pattern[seq[i:i+length]] = maxx\n",
    "    end = time.process_time()\n",
    "    print(\"Time:\", end - start)\n",
    "    return popular_pattern\n",
    "\n",
    "\n",
    "def hamming_count(pattern, seq, d):\n",
    "    lst = []\n",
    "    for i in range(len(seq)):\n",
    "        if len(seq[i:i+len(pattern)]) < len(pattern):\n",
    "            break\n",
    "        elif hamming_dist(seq[i:i+len(pattern)], pattern) <= d:\n",
    "            lst.append(i)\n",
    "    return len(lst)\n",
    "\n",
    "\n",
    "def hamming_dist(str1, str2):\n",
    "    counter = 0\n",
    "    for i in range(len(str1)):\n",
    "        if str1[i] != str2[i]:\n",
    "            counter += 1\n",
    "    return counter"
   ]
  },
  {
   "cell_type": "code",
   "execution_count": 6,
   "metadata": {},
   "outputs": [],
   "source": [
    "seq = 'GGATGGATCCTACCTACCTACGGACGACGCCTACCTAACGCCTAGGATCCTACCTACGGCGGCCTACGGGGATCCTACCTACCTAACGGGATCCTAACGGGATGGATCGGCCTACGGCGGACGGGATGGATACCACGCGGACGACGGGATACGCCTACGGCGGACGACCCGGACCCCTACGGGGATCCTACCTACCTACCTACCTACGGACCCCTAACCCGGACCCCTAGGATACGACCGGATACGCCTAACCGGATCGGCGGCGGCCTAACCACCCCTAGGATGGATCGGACGCGGACCGGATACCCGGGGATCGGACCGGATGGATCGGACGACGCGGACGACCCCTAACCCGGACCACCACCGGATACCGGAT'\n",
    "length = 6\n",
    "mismatch = 2"
   ]
  },
  {
   "cell_type": "code",
   "execution_count": 7,
   "metadata": {},
   "outputs": [
    {
     "name": "stdout",
     "output_type": "stream",
     "text": [
      "Time: 0.19027037899999993\n"
     ]
    },
    {
     "data": {
      "text/plain": [
       "{'CGACCG': 58}"
      ]
     },
     "execution_count": 7,
     "metadata": {},
     "output_type": "execute_result"
    }
   ],
   "source": [
    "aprox_pattern_count(seq, length, mismatch)"
   ]
  },
  {
   "cell_type": "code",
   "execution_count": null,
   "metadata": {},
   "outputs": [],
   "source": []
  }
 ],
 "metadata": {
  "kernelspec": {
   "display_name": "Python 3",
   "language": "python",
   "name": "python3"
  },
  "language_info": {
   "codemirror_mode": {
    "name": "ipython",
    "version": 3
   },
   "file_extension": ".py",
   "mimetype": "text/x-python",
   "name": "python",
   "nbconvert_exporter": "python",
   "pygments_lexer": "ipython3",
   "version": "3.7.6"
  }
 },
 "nbformat": 4,
 "nbformat_minor": 4
}
